{
 "cells": [
  {
   "cell_type": "code",
   "execution_count": 1,
   "id": "5224abf7-6450-415f-911a-b208edded3d2",
   "metadata": {},
   "outputs": [],
   "source": [
    "import pysam\n",
    "import pandas as pd\n",
    "import numpy as np\n",
    "import re\n",
    "import os\n",
    "import glob"
   ]
  },
  {
   "cell_type": "markdown",
   "id": "8d553075-1e2a-4625-af4b-1b979be1e42a",
   "metadata": {},
   "source": [
    "# Load the fasta"
   ]
  },
  {
   "cell_type": "code",
   "execution_count": 2,
   "id": "b573f257-457c-4035-af5a-8ff9ff7f1291",
   "metadata": {},
   "outputs": [
    {
     "data": {
      "text/plain": [
       "{'polyA': 'AAAAAAAAAAA',\n",
       " 'polyT': 'TTTTTTTTTTT',\n",
       " '10x_left_adapter': 'CTACACGACGCTCTTCCGATCT',\n",
       " '10x_right_adapter': 'CCCATGTACTCTGCGTTGATACCACTGCTT',\n",
       " 'biolegend_1': 'GTCAACTCTTTAGCG',\n",
       " 'biolegend_2': 'TGATGGCCTATTGGG',\n",
       " 'biolegend_3': 'TTCCGCCTCTCTTTG',\n",
       " 'biosig': 'CAGCACTTGCCTGTCGCTCTATCTTC'}"
      ]
     },
     "execution_count": 2,
     "metadata": {},
     "output_type": "execute_result"
    }
   ],
   "source": [
    "def fasta_to_dict(fasta_file):\n",
    "  fasta_dict = {}\n",
    "  with pysam.FastaFile(fasta_file) as fasta:\n",
    "    for ref in fasta.references:\n",
    "      fasta_dict[ref] = fasta.fetch(ref)\n",
    "  return fasta_dict\n",
    "\n",
    "fpath = \"/nfs/turbo/umms-indikar/shared/projects/hybrid_reprogramming/data/adapter_search/search.fasta\"\n",
    "fasta = fasta_to_dict(fpath)\n",
    "fasta"
   ]
  },
  {
   "cell_type": "markdown",
   "id": "147104f1-d8de-45fe-9f51-14e1ddebe93f",
   "metadata": {},
   "source": [
    "# Load demux results"
   ]
  },
  {
   "cell_type": "code",
   "execution_count": 3,
   "id": "a231e81e-f6f6-4a4a-b5a4-97e82bdd68ae",
   "metadata": {},
   "outputs": [
    {
     "name": "stdout",
     "output_type": "stream",
     "text": [
      "df.shape=(5930000, 7)\n"
     ]
    },
    {
     "data": {
      "text/html": [
       "<div>\n",
       "<style scoped>\n",
       "    .dataframe tbody tr th:only-of-type {\n",
       "        vertical-align: middle;\n",
       "    }\n",
       "\n",
       "    .dataframe tbody tr th {\n",
       "        vertical-align: top;\n",
       "    }\n",
       "\n",
       "    .dataframe thead th {\n",
       "        text-align: right;\n",
       "    }\n",
       "</style>\n",
       "<table border=\"1\" class=\"dataframe\">\n",
       "  <thead>\n",
       "    <tr style=\"text-align: right;\">\n",
       "      <th></th>\n",
       "      <th>putative_bc</th>\n",
       "      <th>putative_bc_min_q</th>\n",
       "      <th>putative_umi</th>\n",
       "      <th>polyT_end</th>\n",
       "      <th>pre_bc_flanking</th>\n",
       "      <th>post_umi_flanking</th>\n",
       "      <th>demuxed</th>\n",
       "    </tr>\n",
       "    <tr>\n",
       "      <th>read_id</th>\n",
       "      <th></th>\n",
       "      <th></th>\n",
       "      <th></th>\n",
       "      <th></th>\n",
       "      <th></th>\n",
       "      <th></th>\n",
       "      <th></th>\n",
       "    </tr>\n",
       "  </thead>\n",
       "  <tbody>\n",
       "    <tr>\n",
       "      <th>be606770-65a1-40be-89a6-c7056ce4d70e</th>\n",
       "      <td>NaN</td>\n",
       "      <td>NaN</td>\n",
       "      <td>NaN</td>\n",
       "      <td>NaN</td>\n",
       "      <td>NaN</td>\n",
       "      <td>NaN</td>\n",
       "      <td>False</td>\n",
       "    </tr>\n",
       "    <tr>\n",
       "      <th>74def5ea-567d-46dc-a16c-0cfa235ecd3f</th>\n",
       "      <td>NaN</td>\n",
       "      <td>NaN</td>\n",
       "      <td>NaN</td>\n",
       "      <td>NaN</td>\n",
       "      <td>NaN</td>\n",
       "      <td>NaN</td>\n",
       "      <td>False</td>\n",
       "    </tr>\n",
       "    <tr>\n",
       "      <th>4e43e793-a9d2-485b-8010-11fcfa3820cf</th>\n",
       "      <td>NaN</td>\n",
       "      <td>NaN</td>\n",
       "      <td>NaN</td>\n",
       "      <td>NaN</td>\n",
       "      <td>NaN</td>\n",
       "      <td>NaN</td>\n",
       "      <td>False</td>\n",
       "    </tr>\n",
       "    <tr>\n",
       "      <th>e243188c-0b57-4b67-9337-aa2a91a741a4</th>\n",
       "      <td>CAAGGATAGCTAATGT</td>\n",
       "      <td>18.0</td>\n",
       "      <td>GGTATCGGTGGA</td>\n",
       "      <td>-174.0</td>\n",
       "      <td>GATCT</td>\n",
       "      <td>TTTTT</td>\n",
       "      <td>True</td>\n",
       "    </tr>\n",
       "    <tr>\n",
       "      <th>96a72289-6bbb-4123-9489-4645e1535cb2</th>\n",
       "      <td>TGGACAAGTAGGTCAA</td>\n",
       "      <td>37.0</td>\n",
       "      <td>CTAGGCCCATCT</td>\n",
       "      <td>-125.0</td>\n",
       "      <td>GATCT</td>\n",
       "      <td>TTTTT</td>\n",
       "      <td>True</td>\n",
       "    </tr>\n",
       "  </tbody>\n",
       "</table>\n",
       "</div>"
      ],
      "text/plain": [
       "                                           putative_bc  putative_bc_min_q  \\\n",
       "read_id                                                                     \n",
       "be606770-65a1-40be-89a6-c7056ce4d70e               NaN                NaN   \n",
       "74def5ea-567d-46dc-a16c-0cfa235ecd3f               NaN                NaN   \n",
       "4e43e793-a9d2-485b-8010-11fcfa3820cf               NaN                NaN   \n",
       "e243188c-0b57-4b67-9337-aa2a91a741a4  CAAGGATAGCTAATGT               18.0   \n",
       "96a72289-6bbb-4123-9489-4645e1535cb2  TGGACAAGTAGGTCAA               37.0   \n",
       "\n",
       "                                      putative_umi  polyT_end pre_bc_flanking  \\\n",
       "read_id                                                                         \n",
       "be606770-65a1-40be-89a6-c7056ce4d70e           NaN        NaN             NaN   \n",
       "74def5ea-567d-46dc-a16c-0cfa235ecd3f           NaN        NaN             NaN   \n",
       "4e43e793-a9d2-485b-8010-11fcfa3820cf           NaN        NaN             NaN   \n",
       "e243188c-0b57-4b67-9337-aa2a91a741a4  GGTATCGGTGGA     -174.0           GATCT   \n",
       "96a72289-6bbb-4123-9489-4645e1535cb2  CTAGGCCCATCT     -125.0           GATCT   \n",
       "\n",
       "                                     post_umi_flanking  demuxed  \n",
       "read_id                                                          \n",
       "be606770-65a1-40be-89a6-c7056ce4d70e               NaN    False  \n",
       "74def5ea-567d-46dc-a16c-0cfa235ecd3f               NaN    False  \n",
       "4e43e793-a9d2-485b-8010-11fcfa3820cf               NaN    False  \n",
       "e243188c-0b57-4b67-9337-aa2a91a741a4             TTTTT     True  \n",
       "96a72289-6bbb-4123-9489-4645e1535cb2             TTTTT     True  "
      ]
     },
     "execution_count": 3,
     "metadata": {},
     "output_type": "execute_result"
    }
   ],
   "source": [
    "fpath = \"/scratch/indikar_root/indikar1/shared_data/hybrid_reprogramming/demultiplex/run1.putative_bc.csv\"\n",
    "df = pd.read_csv(fpath)\n",
    "df = df.set_index('read_id')\n",
    "df['demuxed'] = ~df['putative_bc'].isna()\n",
    "print(f\"{df.shape=}\")\n",
    "df.head()"
   ]
  },
  {
   "cell_type": "code",
   "execution_count": 4,
   "id": "63fa6130-81d7-42f5-bef4-0381fa93275c",
   "metadata": {},
   "outputs": [
    {
     "data": {
      "text/plain": [
       "demuxed\n",
       "False    0.735721\n",
       "True     0.264279\n",
       "Name: proportion, dtype: float64"
      ]
     },
     "execution_count": 4,
     "metadata": {},
     "output_type": "execute_result"
    }
   ],
   "source": [
    "df['demuxed'].value_counts(normalize=True)"
   ]
  },
  {
   "cell_type": "markdown",
   "id": "5ea43a8c-1f69-4bcb-aaaf-092b16a82a2a",
   "metadata": {},
   "source": [
    "# Load Fastq"
   ]
  },
  {
   "cell_type": "code",
   "execution_count": 5,
   "id": "a08c1c75-4fc0-4bf0-acce-f58634d5d005",
   "metadata": {},
   "outputs": [
    {
     "name": "stdout",
     "output_type": "stream",
     "text": [
      "262\n"
     ]
    },
    {
     "data": {
      "text/plain": [
       "['PAS86317_pass_c40efca7_c272b00d_26.fastq.gz',\n",
       " 'PAS86317_pass_c40efca7_c272b00d_161.fastq.gz',\n",
       " 'PAS86317_pass_c40efca7_c272b00d_34.fastq.gz']"
      ]
     },
     "execution_count": 5,
     "metadata": {},
     "output_type": "execute_result"
    }
   ],
   "source": [
    "dpath = \"/nfs/turbo/umms-indikar/shared/projects/hybrid_reprogramming/data/fastq/gene_expression/2024-12-09-HybridExp2-MYOD-PRRX1/2024-12-04-Hybrid-GEX-Single-Cell-1/fastq_pass/\"\n",
    "file_list = glob.glob(f\"{dpath}/*fastq.gz\")\n",
    "print(len(file_list))\n",
    "\n",
    "[os.path.basename(x) for x in file_list[:3]]"
   ]
  },
  {
   "cell_type": "code",
   "execution_count": 6,
   "id": "702f4fbe-796e-4669-aa59-346b9103b7a8",
   "metadata": {},
   "outputs": [
    {
     "name": "stdout",
     "output_type": "stream",
     "text": [
      "File: PAS86317_pass_c40efca7_c272b00d_1.fastq.gz\n",
      "results.shape=(172839, 2)\n"
     ]
    },
    {
     "data": {
      "text/html": [
       "<div>\n",
       "<style scoped>\n",
       "    .dataframe tbody tr th:only-of-type {\n",
       "        vertical-align: middle;\n",
       "    }\n",
       "\n",
       "    .dataframe tbody tr th {\n",
       "        vertical-align: top;\n",
       "    }\n",
       "\n",
       "    .dataframe thead th {\n",
       "        text-align: right;\n",
       "    }\n",
       "</style>\n",
       "<table border=\"1\" class=\"dataframe\">\n",
       "  <thead>\n",
       "    <tr style=\"text-align: right;\">\n",
       "      <th></th>\n",
       "      <th>read_name</th>\n",
       "      <th>seq</th>\n",
       "    </tr>\n",
       "  </thead>\n",
       "  <tbody>\n",
       "    <tr>\n",
       "      <th>0</th>\n",
       "      <td>c8ae3cba-7890-4728-923a-d6bb02f43178</td>\n",
       "      <td>GTGTTTTGCATGTACTTCGTTCAGTTACGTATTGCTCAGCTTTCTG...</td>\n",
       "    </tr>\n",
       "    <tr>\n",
       "      <th>1</th>\n",
       "      <td>58295a98-d889-4c84-a85a-89364485de33</td>\n",
       "      <td>TGCTCCGTTACTTCGTTCAGTTACGTATTGCTCAGCTTTCTGTTGG...</td>\n",
       "    </tr>\n",
       "    <tr>\n",
       "      <th>2</th>\n",
       "      <td>50b68cb0-a476-42f8-b3c5-c34c9ba60f8e</td>\n",
       "      <td>TTTTTTTTGCATGTACTTCGTTCAGTTACGTATTGCTCTTGCCTGT...</td>\n",
       "    </tr>\n",
       "    <tr>\n",
       "      <th>3</th>\n",
       "      <td>0b692242-9af6-482e-9cd7-06952be461e9</td>\n",
       "      <td>CTTTTATTCCTGCCTCGACTACATTACGTATTGCTGGTGCTGATAT...</td>\n",
       "    </tr>\n",
       "    <tr>\n",
       "      <th>4</th>\n",
       "      <td>75cafcb9-3b50-461f-88fa-fa2f0e2a49a4</td>\n",
       "      <td>ATGTTGTGTAGCCTTGACTACAAGTTACGTATTGCTCAGCTTTCTG...</td>\n",
       "    </tr>\n",
       "  </tbody>\n",
       "</table>\n",
       "</div>"
      ],
      "text/plain": [
       "                              read_name  \\\n",
       "0  c8ae3cba-7890-4728-923a-d6bb02f43178   \n",
       "1  58295a98-d889-4c84-a85a-89364485de33   \n",
       "2  50b68cb0-a476-42f8-b3c5-c34c9ba60f8e   \n",
       "3  0b692242-9af6-482e-9cd7-06952be461e9   \n",
       "4  75cafcb9-3b50-461f-88fa-fa2f0e2a49a4   \n",
       "\n",
       "                                                 seq  \n",
       "0  GTGTTTTGCATGTACTTCGTTCAGTTACGTATTGCTCAGCTTTCTG...  \n",
       "1  TGCTCCGTTACTTCGTTCAGTTACGTATTGCTCAGCTTTCTGTTGG...  \n",
       "2  TTTTTTTTGCATGTACTTCGTTCAGTTACGTATTGCTCTTGCCTGT...  \n",
       "3  CTTTTATTCCTGCCTCGACTACATTACGTATTGCTGGTGCTGATAT...  \n",
       "4  ATGTTGTGTAGCCTTGACTACAAGTTACGTATTGCTCAGCTTTCTG...  "
      ]
     },
     "execution_count": 6,
     "metadata": {},
     "output_type": "execute_result"
    }
   ],
   "source": [
    "fpath = np.random.choice(file_list, 1)[0]\n",
    "print(f\"File: {os.path.basename(fpath)}\")\n",
    "\n",
    "poly_length = 8\n",
    "fastq = pysam.FastqFile(fpath)\n",
    "\n",
    "results = []\n",
    "for read in fastq:\n",
    "\n",
    "    row = {\n",
    "        'read_name' : read.name,\n",
    "        'seq' : read.sequence,\n",
    "    }\n",
    "    results.append(row)\n",
    "    \n",
    "results = pd.DataFrame(results)\n",
    "print(f\"{results.shape=}\")\n",
    "results.head()"
   ]
  },
  {
   "cell_type": "markdown",
   "id": "cec13f9d-5373-4434-9ca1-6d62fba3a514",
   "metadata": {},
   "source": [
    "# Subset the demux results"
   ]
  },
  {
   "cell_type": "code",
   "execution_count": 7,
   "id": "1f0f163c-1c3a-4151-b69a-f9ae219817cc",
   "metadata": {},
   "outputs": [
    {
     "ename": "KeyError",
     "evalue": "\"None of [Index(['c8ae3cba-7890-4728-923a-d6bb02f43178',\\n       '58295a98-d889-4c84-a85a-89364485de33',\\n       '50b68cb0-a476-42f8-b3c5-c34c9ba60f8e',\\n       '0b692242-9af6-482e-9cd7-06952be461e9',\\n       '75cafcb9-3b50-461f-88fa-fa2f0e2a49a4',\\n       '319d20f4-7b2b-41c7-ae86-126c4cb2f640',\\n       'eba1656a-8280-449c-b23e-3b14b5dd2ec5',\\n       'be789eee-6a99-42f3-829a-dc8a96e61437',\\n       'a7034ed6-e4ef-4a48-b9c7-4c26dca59b30',\\n       '20969a45-1a06-4dd7-9a16-9c654a05e42f',\\n       ...\\n       '3ccadbed-28b4-4d3b-b317-75aa5dd25c71',\\n       '34c38215-868e-4822-aad3-0df9af229581',\\n       '8088d94d-189b-4c93-86b4-a84506f66537',\\n       'bd732871-fd20-4188-8ee8-806e0c74a712',\\n       '0881c72a-a224-428e-9568-a635ec438a41',\\n       'e7ce4391-cd41-49ea-a07f-9853347e2c4a',\\n       'c2a86d8a-3a28-46c0-a347-f457f0c86538',\\n       'd4c3231a-d601-4e78-ba0d-218228602e32',\\n       'eeb5ba5d-fd48-4966-b732-8269c4427b9f',\\n       '1b88a07c-71d7-4400-8f23-49a13460ca4d'],\\n      dtype='object', name='read_id', length=172839)] are in the [index]\"",
     "output_type": "error",
     "traceback": [
      "\u001b[0;31m---------------------------------------------------------------------------\u001b[0m",
      "\u001b[0;31mKeyError\u001b[0m                                  Traceback (most recent call last)",
      "Cell \u001b[0;32mIn[7], line 1\u001b[0m\n\u001b[0;32m----> 1\u001b[0m reads \u001b[38;5;241m=\u001b[39m \u001b[43mdf\u001b[49m\u001b[38;5;241;43m.\u001b[39;49m\u001b[43mloc\u001b[49m\u001b[43m[\u001b[49m\u001b[43mresults\u001b[49m\u001b[43m[\u001b[49m\u001b[38;5;124;43m'\u001b[39;49m\u001b[38;5;124;43mread_name\u001b[39;49m\u001b[38;5;124;43m'\u001b[39;49m\u001b[43m]\u001b[49m\u001b[38;5;241;43m.\u001b[39;49m\u001b[43mvalues\u001b[49m\u001b[43m]\u001b[49m\n\u001b[1;32m      2\u001b[0m reads \u001b[38;5;241m=\u001b[39m reads\u001b[38;5;241m.\u001b[39mreset_index()\n\u001b[1;32m      3\u001b[0m reads \u001b[38;5;241m=\u001b[39m pd\u001b[38;5;241m.\u001b[39mconcat([reads, results], axis\u001b[38;5;241m=\u001b[39m\u001b[38;5;241m1\u001b[39m)\n",
      "File \u001b[0;32m~/miniconda3/envs/bioinf/lib/python3.10/site-packages/pandas/core/indexing.py:1191\u001b[0m, in \u001b[0;36m_LocationIndexer.__getitem__\u001b[0;34m(self, key)\u001b[0m\n\u001b[1;32m   1189\u001b[0m maybe_callable \u001b[38;5;241m=\u001b[39m com\u001b[38;5;241m.\u001b[39mapply_if_callable(key, \u001b[38;5;28mself\u001b[39m\u001b[38;5;241m.\u001b[39mobj)\n\u001b[1;32m   1190\u001b[0m maybe_callable \u001b[38;5;241m=\u001b[39m \u001b[38;5;28mself\u001b[39m\u001b[38;5;241m.\u001b[39m_check_deprecated_callable_usage(key, maybe_callable)\n\u001b[0;32m-> 1191\u001b[0m \u001b[38;5;28;01mreturn\u001b[39;00m \u001b[38;5;28;43mself\u001b[39;49m\u001b[38;5;241;43m.\u001b[39;49m\u001b[43m_getitem_axis\u001b[49m\u001b[43m(\u001b[49m\u001b[43mmaybe_callable\u001b[49m\u001b[43m,\u001b[49m\u001b[43m \u001b[49m\u001b[43maxis\u001b[49m\u001b[38;5;241;43m=\u001b[39;49m\u001b[43maxis\u001b[49m\u001b[43m)\u001b[49m\n",
      "File \u001b[0;32m~/miniconda3/envs/bioinf/lib/python3.10/site-packages/pandas/core/indexing.py:1420\u001b[0m, in \u001b[0;36m_LocIndexer._getitem_axis\u001b[0;34m(self, key, axis)\u001b[0m\n\u001b[1;32m   1417\u001b[0m     \u001b[38;5;28;01mif\u001b[39;00m \u001b[38;5;28mhasattr\u001b[39m(key, \u001b[38;5;124m\"\u001b[39m\u001b[38;5;124mndim\u001b[39m\u001b[38;5;124m\"\u001b[39m) \u001b[38;5;129;01mand\u001b[39;00m key\u001b[38;5;241m.\u001b[39mndim \u001b[38;5;241m>\u001b[39m \u001b[38;5;241m1\u001b[39m:\n\u001b[1;32m   1418\u001b[0m         \u001b[38;5;28;01mraise\u001b[39;00m \u001b[38;5;167;01mValueError\u001b[39;00m(\u001b[38;5;124m\"\u001b[39m\u001b[38;5;124mCannot index with multidimensional key\u001b[39m\u001b[38;5;124m\"\u001b[39m)\n\u001b[0;32m-> 1420\u001b[0m     \u001b[38;5;28;01mreturn\u001b[39;00m \u001b[38;5;28;43mself\u001b[39;49m\u001b[38;5;241;43m.\u001b[39;49m\u001b[43m_getitem_iterable\u001b[49m\u001b[43m(\u001b[49m\u001b[43mkey\u001b[49m\u001b[43m,\u001b[49m\u001b[43m \u001b[49m\u001b[43maxis\u001b[49m\u001b[38;5;241;43m=\u001b[39;49m\u001b[43maxis\u001b[49m\u001b[43m)\u001b[49m\n\u001b[1;32m   1422\u001b[0m \u001b[38;5;66;03m# nested tuple slicing\u001b[39;00m\n\u001b[1;32m   1423\u001b[0m \u001b[38;5;28;01mif\u001b[39;00m is_nested_tuple(key, labels):\n",
      "File \u001b[0;32m~/miniconda3/envs/bioinf/lib/python3.10/site-packages/pandas/core/indexing.py:1360\u001b[0m, in \u001b[0;36m_LocIndexer._getitem_iterable\u001b[0;34m(self, key, axis)\u001b[0m\n\u001b[1;32m   1357\u001b[0m \u001b[38;5;28mself\u001b[39m\u001b[38;5;241m.\u001b[39m_validate_key(key, axis)\n\u001b[1;32m   1359\u001b[0m \u001b[38;5;66;03m# A collection of keys\u001b[39;00m\n\u001b[0;32m-> 1360\u001b[0m keyarr, indexer \u001b[38;5;241m=\u001b[39m \u001b[38;5;28;43mself\u001b[39;49m\u001b[38;5;241;43m.\u001b[39;49m\u001b[43m_get_listlike_indexer\u001b[49m\u001b[43m(\u001b[49m\u001b[43mkey\u001b[49m\u001b[43m,\u001b[49m\u001b[43m \u001b[49m\u001b[43maxis\u001b[49m\u001b[43m)\u001b[49m\n\u001b[1;32m   1361\u001b[0m \u001b[38;5;28;01mreturn\u001b[39;00m \u001b[38;5;28mself\u001b[39m\u001b[38;5;241m.\u001b[39mobj\u001b[38;5;241m.\u001b[39m_reindex_with_indexers(\n\u001b[1;32m   1362\u001b[0m     {axis: [keyarr, indexer]}, copy\u001b[38;5;241m=\u001b[39m\u001b[38;5;28;01mTrue\u001b[39;00m, allow_dups\u001b[38;5;241m=\u001b[39m\u001b[38;5;28;01mTrue\u001b[39;00m\n\u001b[1;32m   1363\u001b[0m )\n",
      "File \u001b[0;32m~/miniconda3/envs/bioinf/lib/python3.10/site-packages/pandas/core/indexing.py:1558\u001b[0m, in \u001b[0;36m_LocIndexer._get_listlike_indexer\u001b[0;34m(self, key, axis)\u001b[0m\n\u001b[1;32m   1555\u001b[0m ax \u001b[38;5;241m=\u001b[39m \u001b[38;5;28mself\u001b[39m\u001b[38;5;241m.\u001b[39mobj\u001b[38;5;241m.\u001b[39m_get_axis(axis)\n\u001b[1;32m   1556\u001b[0m axis_name \u001b[38;5;241m=\u001b[39m \u001b[38;5;28mself\u001b[39m\u001b[38;5;241m.\u001b[39mobj\u001b[38;5;241m.\u001b[39m_get_axis_name(axis)\n\u001b[0;32m-> 1558\u001b[0m keyarr, indexer \u001b[38;5;241m=\u001b[39m \u001b[43max\u001b[49m\u001b[38;5;241;43m.\u001b[39;49m\u001b[43m_get_indexer_strict\u001b[49m\u001b[43m(\u001b[49m\u001b[43mkey\u001b[49m\u001b[43m,\u001b[49m\u001b[43m \u001b[49m\u001b[43maxis_name\u001b[49m\u001b[43m)\u001b[49m\n\u001b[1;32m   1560\u001b[0m \u001b[38;5;28;01mreturn\u001b[39;00m keyarr, indexer\n",
      "File \u001b[0;32m~/miniconda3/envs/bioinf/lib/python3.10/site-packages/pandas/core/indexes/base.py:6200\u001b[0m, in \u001b[0;36mIndex._get_indexer_strict\u001b[0;34m(self, key, axis_name)\u001b[0m\n\u001b[1;32m   6197\u001b[0m \u001b[38;5;28;01melse\u001b[39;00m:\n\u001b[1;32m   6198\u001b[0m     keyarr, indexer, new_indexer \u001b[38;5;241m=\u001b[39m \u001b[38;5;28mself\u001b[39m\u001b[38;5;241m.\u001b[39m_reindex_non_unique(keyarr)\n\u001b[0;32m-> 6200\u001b[0m \u001b[38;5;28;43mself\u001b[39;49m\u001b[38;5;241;43m.\u001b[39;49m\u001b[43m_raise_if_missing\u001b[49m\u001b[43m(\u001b[49m\u001b[43mkeyarr\u001b[49m\u001b[43m,\u001b[49m\u001b[43m \u001b[49m\u001b[43mindexer\u001b[49m\u001b[43m,\u001b[49m\u001b[43m \u001b[49m\u001b[43maxis_name\u001b[49m\u001b[43m)\u001b[49m\n\u001b[1;32m   6202\u001b[0m keyarr \u001b[38;5;241m=\u001b[39m \u001b[38;5;28mself\u001b[39m\u001b[38;5;241m.\u001b[39mtake(indexer)\n\u001b[1;32m   6203\u001b[0m \u001b[38;5;28;01mif\u001b[39;00m \u001b[38;5;28misinstance\u001b[39m(key, Index):\n\u001b[1;32m   6204\u001b[0m     \u001b[38;5;66;03m# GH 42790 - Preserve name from an Index\u001b[39;00m\n",
      "File \u001b[0;32m~/miniconda3/envs/bioinf/lib/python3.10/site-packages/pandas/core/indexes/base.py:6249\u001b[0m, in \u001b[0;36mIndex._raise_if_missing\u001b[0;34m(self, key, indexer, axis_name)\u001b[0m\n\u001b[1;32m   6247\u001b[0m \u001b[38;5;28;01mif\u001b[39;00m nmissing:\n\u001b[1;32m   6248\u001b[0m     \u001b[38;5;28;01mif\u001b[39;00m nmissing \u001b[38;5;241m==\u001b[39m \u001b[38;5;28mlen\u001b[39m(indexer):\n\u001b[0;32m-> 6249\u001b[0m         \u001b[38;5;28;01mraise\u001b[39;00m \u001b[38;5;167;01mKeyError\u001b[39;00m(\u001b[38;5;124mf\u001b[39m\u001b[38;5;124m\"\u001b[39m\u001b[38;5;124mNone of [\u001b[39m\u001b[38;5;132;01m{\u001b[39;00mkey\u001b[38;5;132;01m}\u001b[39;00m\u001b[38;5;124m] are in the [\u001b[39m\u001b[38;5;132;01m{\u001b[39;00maxis_name\u001b[38;5;132;01m}\u001b[39;00m\u001b[38;5;124m]\u001b[39m\u001b[38;5;124m\"\u001b[39m)\n\u001b[1;32m   6251\u001b[0m     not_found \u001b[38;5;241m=\u001b[39m \u001b[38;5;28mlist\u001b[39m(ensure_index(key)[missing_mask\u001b[38;5;241m.\u001b[39mnonzero()[\u001b[38;5;241m0\u001b[39m]]\u001b[38;5;241m.\u001b[39munique())\n\u001b[1;32m   6252\u001b[0m     \u001b[38;5;28;01mraise\u001b[39;00m \u001b[38;5;167;01mKeyError\u001b[39;00m(\u001b[38;5;124mf\u001b[39m\u001b[38;5;124m\"\u001b[39m\u001b[38;5;132;01m{\u001b[39;00mnot_found\u001b[38;5;132;01m}\u001b[39;00m\u001b[38;5;124m not in index\u001b[39m\u001b[38;5;124m\"\u001b[39m)\n",
      "\u001b[0;31mKeyError\u001b[0m: \"None of [Index(['c8ae3cba-7890-4728-923a-d6bb02f43178',\\n       '58295a98-d889-4c84-a85a-89364485de33',\\n       '50b68cb0-a476-42f8-b3c5-c34c9ba60f8e',\\n       '0b692242-9af6-482e-9cd7-06952be461e9',\\n       '75cafcb9-3b50-461f-88fa-fa2f0e2a49a4',\\n       '319d20f4-7b2b-41c7-ae86-126c4cb2f640',\\n       'eba1656a-8280-449c-b23e-3b14b5dd2ec5',\\n       'be789eee-6a99-42f3-829a-dc8a96e61437',\\n       'a7034ed6-e4ef-4a48-b9c7-4c26dca59b30',\\n       '20969a45-1a06-4dd7-9a16-9c654a05e42f',\\n       ...\\n       '3ccadbed-28b4-4d3b-b317-75aa5dd25c71',\\n       '34c38215-868e-4822-aad3-0df9af229581',\\n       '8088d94d-189b-4c93-86b4-a84506f66537',\\n       'bd732871-fd20-4188-8ee8-806e0c74a712',\\n       '0881c72a-a224-428e-9568-a635ec438a41',\\n       'e7ce4391-cd41-49ea-a07f-9853347e2c4a',\\n       'c2a86d8a-3a28-46c0-a347-f457f0c86538',\\n       'd4c3231a-d601-4e78-ba0d-218228602e32',\\n       'eeb5ba5d-fd48-4966-b732-8269c4427b9f',\\n       '1b88a07c-71d7-4400-8f23-49a13460ca4d'],\\n      dtype='object', name='read_id', length=172839)] are in the [index]\""
     ]
    }
   ],
   "source": [
    "reads = df.loc[results['read_name'].values]\n",
    "reads = reads.reset_index()\n",
    "reads = pd.concat([reads, results], axis=1)\n",
    "print(f\"{reads.shape=}\")\n",
    "print()\n",
    "print(reads['demuxed'].value_counts(normalize=True))\n",
    "print()\n",
    "reads.head()"
   ]
  },
  {
   "cell_type": "code",
   "execution_count": null,
   "id": "689d3ee9-b1b2-442a-999a-5a7bf8cc9043",
   "metadata": {},
   "outputs": [],
   "source": [
    "break"
   ]
  },
  {
   "cell_type": "code",
   "execution_count": null,
   "id": "3cee262e-c174-419f-aead-c2b9aa0d0f55",
   "metadata": {},
   "outputs": [],
   "source": []
  },
  {
   "cell_type": "code",
   "execution_count": null,
   "id": "1394c662-9140-4806-b705-817b81501ac8",
   "metadata": {},
   "outputs": [],
   "source": []
  },
  {
   "cell_type": "code",
   "execution_count": null,
   "id": "5c950b97-5288-49b0-b9fb-5c41a88562ca",
   "metadata": {},
   "outputs": [],
   "source": []
  },
  {
   "cell_type": "code",
   "execution_count": null,
   "id": "2fca4204-a16d-4157-8904-02581de5a3ad",
   "metadata": {},
   "outputs": [],
   "source": [
    "break"
   ]
  },
  {
   "cell_type": "code",
   "execution_count": null,
   "id": "90ef7758-5df8-4866-9025-115b9fb05532",
   "metadata": {},
   "outputs": [],
   "source": []
  },
  {
   "cell_type": "code",
   "execution_count": null,
   "id": "b850b8b5-43e4-477b-97fc-f986d436f0e9",
   "metadata": {},
   "outputs": [],
   "source": []
  },
  {
   "cell_type": "code",
   "execution_count": null,
   "id": "a2c5718c-d81b-4ea6-8488-b37da8188e49",
   "metadata": {},
   "outputs": [],
   "source": []
  },
  {
   "cell_type": "code",
   "execution_count": null,
   "id": "fbf26c47-d5e6-48bc-b09a-23c23e909ff0",
   "metadata": {},
   "outputs": [],
   "source": []
  },
  {
   "cell_type": "code",
   "execution_count": null,
   "id": "53031c4a-0255-4707-85d6-a9ec5712ffdb",
   "metadata": {},
   "outputs": [],
   "source": [
    "break"
   ]
  },
  {
   "cell_type": "code",
   "execution_count": null,
   "id": "f6dfae44-4a9f-4dff-bd62-b646ace7bcad",
   "metadata": {},
   "outputs": [],
   "source": []
  },
  {
   "cell_type": "code",
   "execution_count": null,
   "id": "47016ae3-5fb8-459e-a93f-6546ac331447",
   "metadata": {},
   "outputs": [],
   "source": []
  },
  {
   "cell_type": "code",
   "execution_count": null,
   "id": "d78c624a-d26c-4350-97ef-97d3e09d0df4",
   "metadata": {},
   "outputs": [],
   "source": []
  },
  {
   "cell_type": "code",
   "execution_count": null,
   "id": "01add2f0-b276-4637-a27e-be10a60c67c3",
   "metadata": {},
   "outputs": [],
   "source": []
  },
  {
   "cell_type": "code",
   "execution_count": null,
   "id": "e8cbb78c-7f24-4510-b4f0-d805718f4b1e",
   "metadata": {},
   "outputs": [],
   "source": [
    "def reverse_complement(seq):\n",
    "  \"\"\"\n",
    "  This function takes a DNA sequence as input and returns its reverse complement.\n",
    "\n",
    "  Args:\n",
    "    seq: The DNA sequence to be reversed and complemented.\n",
    "\n",
    "  Returns:\n",
    "    The reverse complement of the input sequence.\n",
    "  \"\"\"\n",
    "  complement = {'A': 'T', 'C': 'G', 'G': 'C', 'T': 'A'}\n",
    "  return \"\".join(complement.get(base, base) for base in reversed(seq))"
   ]
  },
  {
   "cell_type": "code",
   "execution_count": null,
   "id": "0112f4a9-23ce-4c99-98dc-d64c5a3efef9",
   "metadata": {},
   "outputs": [],
   "source": [
    "# randomly sample a fastq file\n",
    "\n",
    "fpath = np.random.choice(file_list, 1)[0]\n",
    "print(f\"File: {os.path.basename(fpath)}\")\n",
    "\n",
    "poly_length = 8\n",
    "polya = \"A\" * poly_length\n",
    "polyt = \"T\" * poly_length\n",
    "n_records = 5\n",
    "fastq = pysam.FastqFile(fpath)\n",
    "\n",
    "count = -1\n",
    "for read in fastq:\n",
    "    count += 1\n",
    "    if count == n_records:\n",
    "        break\n",
    "\n",
    "    read_id = read.name\n",
    "    seq = read.sequence\n",
    "    print(f\"{read_id=}\")\n",
    "    for idx, val in df.loc[read_id].items():\n",
    "        print(f\"{idx}: {val}\")\n",
    "    print(seq)\n",
    "\n",
    "    print()\n"
   ]
  },
  {
   "cell_type": "code",
   "execution_count": null,
   "id": "96acb740-cafc-482e-af09-493a2264da92",
   "metadata": {},
   "outputs": [],
   "source": [
    "rec"
   ]
  },
  {
   "cell_type": "code",
   "execution_count": null,
   "id": "d1ac9eb1-e93f-4335-85f1-9ec0f6acae85",
   "metadata": {},
   "outputs": [],
   "source": [
    "?pysam.FastxFile"
   ]
  },
  {
   "cell_type": "code",
   "execution_count": null,
   "id": "7eeda20a-e814-45c5-9d44-a164a259d17e",
   "metadata": {},
   "outputs": [],
   "source": []
  },
  {
   "cell_type": "code",
   "execution_count": null,
   "id": "2c722ad7-8fbd-4f72-a0b2-d9cf4bf95fd6",
   "metadata": {},
   "outputs": [],
   "source": [
    "fpath = \"/scratch/indikar_root/indikar1/shared_data/hybrid_reprogramming/fastq/run1.raw.fastq.gz\"\n",
    "poly_length = 8\n",
    "polya = \"A\" * poly_length\n",
    "polyt = \"T\" * poly_length\n",
    "n_records = 2\n",
    "fastq = pysam.FastqFile(fpath)\n",
    "\n",
    "# Define the sequences to search for with potential mismatches\n",
    "polya_seq = \"GATGTGCTGCGAGAAGGCTAGA\"\n",
    "polyt_seq = \"CTACACGACGCTCTTCCGATCT\"\n",
    "\n",
    "def highlight_poly(sequence, poly):\n",
    "    \"\"\"Highlights poly-A or poly-T tails in a sequence with red color.\"\"\"\n",
    "    if poly in sequence:\n",
    "        return sequence.replace(poly, f\"\\033[91m{poly}\\033[0m\")\n",
    "    return sequence\n",
    "\n",
    "def highlight_sequence(sequence, target_seq, color=\"red\", mismatches=2):\n",
    "    \"\"\"Highlights the target sequence with the specified color and number of mismatches allowed.\n",
    "\n",
    "    Args:\n",
    "      sequence: The sequence to search in.\n",
    "      target_seq: The sequence to search for.\n",
    "      color: The color to highlight the sequence with. \n",
    "             Can be one of \"blue\", \"red\", \"green\", \"yellow\", \"magenta\", \"cyan\".\n",
    "      mismatches: The number of mismatches allowed.\n",
    "\n",
    "    Returns:\n",
    "      The sequence with the target sequence highlighted.\n",
    "    \"\"\"\n",
    "\n",
    "    # Define ANSI escape codes for colors\n",
    "    color_codes = {\n",
    "        \"blue\": \"\\033[94m\",\n",
    "        \"red\": \"\\033[91m\",\n",
    "        \"green\": \"\\033[92m\",\n",
    "        \"yellow\": \"\\033[93m\",\n",
    "        \"magenta\": \"\\033[95m\",\n",
    "        \"cyan\": \"\\033[96m\",\n",
    "    }\n",
    "\n",
    "    if color not in color_codes:\n",
    "        raise ValueError(f\"Invalid color: {color}\")\n",
    "\n",
    "    # Use regex to find the sequence with the specified number of mismatches\n",
    "    match = re.search(f\"({target_seq}){{s<={mismatches}}}\", sequence)\n",
    "    if match:\n",
    "        # Get the matched sequence\n",
    "        matched_seq = match.group(0)\n",
    "        # Highlight the matched sequence with the specified color\n",
    "        highlighted_seq = f\"{color_codes[color]}{matched_seq}\\033[0m\"\n",
    "        # Replace the matched sequence in the original sequence with the highlighted sequence\n",
    "        return sequence.replace(matched_seq, highlighted_seq)\n",
    "    return sequence\n",
    "\n",
    "count = -1\n",
    "for read in fastq:\n",
    "    seq = read.sequence\n",
    "    if not polya in seq or polyt in seq:\n",
    "        continue\n",
    "\n",
    "    count += 1\n",
    "    if count == n_records:\n",
    "        break\n",
    "\n",
    "    print(f\"{read.name=}\")\n",
    "\n",
    "    # seq_search = highlight_poly(seq, polya)\n",
    "    # seq_search = highlight_poly(seq_search, polyt)\n",
    "    seq_search = highlight_sequence(seq, \"AAAAATAATA\")\n",
    "    print(seq_search)\n",
    "    \n",
    "    # print(highlight_sequence(seq, polya_seq))\n",
    "\n",
    "\n",
    "\n",
    "    print()"
   ]
  },
  {
   "cell_type": "code",
   "execution_count": null,
   "id": "b8f07e4e-47f1-4ed6-a90c-b2e0b6fa5d38",
   "metadata": {},
   "outputs": [],
   "source": []
  },
  {
   "cell_type": "code",
   "execution_count": null,
   "id": "1dea88b0-cc45-4a17-8787-927a1a37a856",
   "metadata": {},
   "outputs": [],
   "source": []
  },
  {
   "cell_type": "code",
   "execution_count": null,
   "id": "ce724126-5525-47d7-9ad7-92b70423f17f",
   "metadata": {},
   "outputs": [],
   "source": []
  },
  {
   "cell_type": "code",
   "execution_count": null,
   "id": "f06ce16d-fbef-40a3-ad83-e7f9d09ea19f",
   "metadata": {},
   "outputs": [],
   "source": []
  }
 ],
 "metadata": {
  "kernelspec": {
   "display_name": "bioinf",
   "language": "python",
   "name": "bioinf"
  },
  "language_info": {
   "codemirror_mode": {
    "name": "ipython",
    "version": 3
   },
   "file_extension": ".py",
   "mimetype": "text/x-python",
   "name": "python",
   "nbconvert_exporter": "python",
   "pygments_lexer": "ipython3",
   "version": "3.10.14"
  }
 },
 "nbformat": 4,
 "nbformat_minor": 5
}
