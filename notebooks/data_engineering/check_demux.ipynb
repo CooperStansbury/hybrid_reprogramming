{
 "cells": [
  {
   "cell_type": "code",
   "execution_count": 1,
   "id": "d4dd36b8-578a-45d4-9be6-51c3f461978a",
   "metadata": {},
   "outputs": [],
   "source": [
    "import pysam\n",
    "import pandas as pd\n",
    "import numpy as np\n",
    "import re"
   ]
  },
  {
   "cell_type": "code",
   "execution_count": 2,
   "id": "d038028d-cd99-438c-a3de-421bd42d8d66",
   "metadata": {},
   "outputs": [
    {
     "data": {
      "text/html": [
       "<div>\n",
       "<style scoped>\n",
       "    .dataframe tbody tr th:only-of-type {\n",
       "        vertical-align: middle;\n",
       "    }\n",
       "\n",
       "    .dataframe tbody tr th {\n",
       "        vertical-align: top;\n",
       "    }\n",
       "\n",
       "    .dataframe thead th {\n",
       "        text-align: right;\n",
       "    }\n",
       "</style>\n",
       "<table border=\"1\" class=\"dataframe\">\n",
       "  <thead>\n",
       "    <tr style=\"text-align: right;\">\n",
       "      <th></th>\n",
       "      <th>read_id</th>\n",
       "      <th>putative_bc</th>\n",
       "      <th>putative_bc_min_q</th>\n",
       "      <th>putative_umi</th>\n",
       "      <th>polyT_end</th>\n",
       "      <th>pre_bc_flanking</th>\n",
       "      <th>post_umi_flanking</th>\n",
       "    </tr>\n",
       "  </thead>\n",
       "  <tbody>\n",
       "    <tr>\n",
       "      <th>0</th>\n",
       "      <td>be606770-65a1-40be-89a6-c7056ce4d70e</td>\n",
       "      <td>NaN</td>\n",
       "      <td>NaN</td>\n",
       "      <td>NaN</td>\n",
       "      <td>NaN</td>\n",
       "      <td>NaN</td>\n",
       "      <td>NaN</td>\n",
       "    </tr>\n",
       "    <tr>\n",
       "      <th>1</th>\n",
       "      <td>74def5ea-567d-46dc-a16c-0cfa235ecd3f</td>\n",
       "      <td>NaN</td>\n",
       "      <td>NaN</td>\n",
       "      <td>NaN</td>\n",
       "      <td>NaN</td>\n",
       "      <td>NaN</td>\n",
       "      <td>NaN</td>\n",
       "    </tr>\n",
       "    <tr>\n",
       "      <th>2</th>\n",
       "      <td>4e43e793-a9d2-485b-8010-11fcfa3820cf</td>\n",
       "      <td>NaN</td>\n",
       "      <td>NaN</td>\n",
       "      <td>NaN</td>\n",
       "      <td>NaN</td>\n",
       "      <td>NaN</td>\n",
       "      <td>NaN</td>\n",
       "    </tr>\n",
       "    <tr>\n",
       "      <th>3</th>\n",
       "      <td>e243188c-0b57-4b67-9337-aa2a91a741a4</td>\n",
       "      <td>CAAGGATAGCTAATGT</td>\n",
       "      <td>18.0</td>\n",
       "      <td>GGTATCGGTGGA</td>\n",
       "      <td>-174.0</td>\n",
       "      <td>GATCT</td>\n",
       "      <td>TTTTT</td>\n",
       "    </tr>\n",
       "    <tr>\n",
       "      <th>4</th>\n",
       "      <td>96a72289-6bbb-4123-9489-4645e1535cb2</td>\n",
       "      <td>TGGACAAGTAGGTCAA</td>\n",
       "      <td>37.0</td>\n",
       "      <td>CTAGGCCCATCT</td>\n",
       "      <td>-125.0</td>\n",
       "      <td>GATCT</td>\n",
       "      <td>TTTTT</td>\n",
       "    </tr>\n",
       "  </tbody>\n",
       "</table>\n",
       "</div>"
      ],
      "text/plain": [
       "                                read_id       putative_bc  putative_bc_min_q  \\\n",
       "0  be606770-65a1-40be-89a6-c7056ce4d70e               NaN                NaN   \n",
       "1  74def5ea-567d-46dc-a16c-0cfa235ecd3f               NaN                NaN   \n",
       "2  4e43e793-a9d2-485b-8010-11fcfa3820cf               NaN                NaN   \n",
       "3  e243188c-0b57-4b67-9337-aa2a91a741a4  CAAGGATAGCTAATGT               18.0   \n",
       "4  96a72289-6bbb-4123-9489-4645e1535cb2  TGGACAAGTAGGTCAA               37.0   \n",
       "\n",
       "   putative_umi  polyT_end pre_bc_flanking post_umi_flanking  \n",
       "0           NaN        NaN             NaN               NaN  \n",
       "1           NaN        NaN             NaN               NaN  \n",
       "2           NaN        NaN             NaN               NaN  \n",
       "3  GGTATCGGTGGA     -174.0           GATCT             TTTTT  \n",
       "4  CTAGGCCCATCT     -125.0           GATCT             TTTTT  "
      ]
     },
     "execution_count": 2,
     "metadata": {},
     "output_type": "execute_result"
    }
   ],
   "source": [
    "fpath = \"/scratch/indikar_root/indikar1/shared_data/hybrid_reprogramming/demultiplex/run1.putative_bc.csv\"\n",
    "\n",
    "df = pd.read_csv(fpath)\n",
    "df.head()"
   ]
  },
  {
   "cell_type": "code",
   "execution_count": null,
   "id": "9aab92a9-479d-4334-bcbd-7a0215b5144e",
   "metadata": {},
   "outputs": [],
   "source": []
  },
  {
   "cell_type": "code",
   "execution_count": null,
   "id": "7af78b47-737b-4f27-809a-0b4652fc554b",
   "metadata": {},
   "outputs": [],
   "source": []
  }
 ],
 "metadata": {
  "kernelspec": {
   "display_name": "bioinf",
   "language": "python",
   "name": "bioinf"
  },
  "language_info": {
   "codemirror_mode": {
    "name": "ipython",
    "version": 3
   },
   "file_extension": ".py",
   "mimetype": "text/x-python",
   "name": "python",
   "nbconvert_exporter": "python",
   "pygments_lexer": "ipython3",
   "version": "3.10.14"
  }
 },
 "nbformat": 4,
 "nbformat_minor": 5
}
